{
 "cells": [
  {
   "cell_type": "code",
   "execution_count": 28,
   "metadata": {},
   "outputs": [],
   "source": [
    "import pandas as pd"
   ]
  },
  {
   "cell_type": "code",
   "execution_count": 29,
   "metadata": {},
   "outputs": [],
   "source": [
    "originalDataset = pd.read_csv(r\"https://raw.githubusercontent.com/iabufarha/ArSarcasm-v2/main/ArSarcasm-v2/training_data.csv\")\n",
    "augDataset = pd.read_csv(r\"../augmented Dataset.csv\")\n",
    "GPTDataset = pd.read_csv(r\"../GPT Dataset.csv\")\n",
    "fullDataset = pd.read_csv(r\"../full Dataset.csv\")\n",
    "backtransDataset = pd.read_csv(r\"../backtrans Dataset.csv\")\n",
    "synonymrepDataset = pd.read_csv(r\"../synrep Dataset.csv\")\n",
    "synGPTDataset = pd.read_csv(r\"../synGPT Dataset.csv\")\n",
    "backGPTDataset = pd.read_csv(r\"../backGPT Dataset.csv\")"
   ]
  },
  {
   "cell_type": "code",
   "execution_count": 30,
   "metadata": {},
   "outputs": [
    {
     "name": "stdout",
     "output_type": "stream",
     "text": [
      "<class 'pandas.core.frame.DataFrame'>\n",
      "RangeIndex: 12548 entries, 0 to 12547\n",
      "Data columns (total 4 columns):\n",
      " #   Column     Non-Null Count  Dtype \n",
      "---  ------     --------------  ----- \n",
      " 0   tweet      12548 non-null  object\n",
      " 1   sarcasm    12548 non-null  bool  \n",
      " 2   sentiment  12548 non-null  object\n",
      " 3   dialect    12548 non-null  object\n",
      "dtypes: bool(1), object(3)\n",
      "memory usage: 306.5+ KB\n",
      "None\n",
      "\n",
      "The ration between the sarcasm tweet and nonsarcastic tweets as follow: \n",
      "sarcasm\n",
      "False    10380\n",
      "True      2168\n",
      "Name: count, dtype: int64\n",
      "\n",
      "The ration between the dialects as follow: \n",
      "dialect\n",
      "msa       8562\n",
      "egypt     2675\n",
      "gulf       644\n",
      "levant     624\n",
      "magreb      43\n",
      "Name: count, dtype: int64\n",
      "\n",
      "Total is:  12548\n"
     ]
    }
   ],
   "source": [
    "print(originalDataset.info())\n",
    "print(\"\\nThe ration between the sarcasm tweet and nonsarcastic tweets as follow: \")\n",
    "print(originalDataset[\"sarcasm\"].value_counts())\n",
    "print(\"\\nThe ration between the dialects as follow: \")\n",
    "print(originalDataset[\"dialect\"].value_counts())\n",
    "print(\"\\nTotal is: \",originalDataset[\"sarcasm\"].value_counts().sum())"
   ]
  },
  {
   "cell_type": "code",
   "execution_count": 31,
   "metadata": {},
   "outputs": [
    {
     "name": "stdout",
     "output_type": "stream",
     "text": [
      "<class 'pandas.core.frame.DataFrame'>\n",
      "RangeIndex: 13913 entries, 0 to 13912\n",
      "Data columns (total 4 columns):\n",
      " #   Column     Non-Null Count  Dtype \n",
      "---  ------     --------------  ----- \n",
      " 0   tweet      13913 non-null  object\n",
      " 1   sarcasm    13913 non-null  bool  \n",
      " 2   sentiment  13913 non-null  object\n",
      " 3   dialect    13913 non-null  object\n",
      "dtypes: bool(1), object(3)\n",
      "memory usage: 339.8+ KB\n",
      "None\n",
      "\n",
      "The ration between the sarcasm tweet and nonsarcastic tweets as follow: \n",
      "sarcasm\n",
      "False    10332\n",
      "True      3581\n",
      "Name: count, dtype: int64\n",
      "\n",
      "The ration between the dialects as follow: \n",
      "dialect\n",
      "msa       9133\n",
      "egypt     3283\n",
      "gulf       740\n",
      "levant     709\n",
      "magreb      48\n",
      "Name: count, dtype: int64\n",
      "\n",
      "Total is:  13913\n"
     ]
    }
   ],
   "source": [
    "print(backtransDataset.info())\n",
    "print(\"\\nThe ration between the sarcasm tweet and nonsarcastic tweets as follow: \")\n",
    "print(backtransDataset[\"sarcasm\"].value_counts())\n",
    "print(\"\\nThe ration between the dialects as follow: \")\n",
    "print(backtransDataset[\"dialect\"].value_counts())\n",
    "print(\"\\nTotal is: \",backtransDataset[\"sarcasm\"].value_counts().sum())"
   ]
  },
  {
   "cell_type": "code",
   "execution_count": 32,
   "metadata": {},
   "outputs": [
    {
     "name": "stdout",
     "output_type": "stream",
     "text": [
      "<class 'pandas.core.frame.DataFrame'>\n",
      "RangeIndex: 14595 entries, 0 to 14594\n",
      "Data columns (total 4 columns):\n",
      " #   Column     Non-Null Count  Dtype \n",
      "---  ------     --------------  ----- \n",
      " 0   tweet      14595 non-null  object\n",
      " 1   sarcasm    14595 non-null  bool  \n",
      " 2   sentiment  14595 non-null  object\n",
      " 3   dialect    14595 non-null  object\n",
      "dtypes: bool(1), object(3)\n",
      "memory usage: 356.5+ KB\n",
      "None\n",
      "\n",
      "The ration between the sarcasm tweet and nonsarcastic tweets as follow: \n",
      "sarcasm\n",
      "False    10335\n",
      "True      4260\n",
      "Name: count, dtype: int64\n",
      "\n",
      "The ration between the dialects as follow: \n",
      "dialect\n",
      "msa       9420\n",
      "egypt     3567\n",
      "gulf       794\n",
      "levant     757\n",
      "magreb      57\n",
      "Name: count, dtype: int64\n",
      "\n",
      "Total is:  14595\n"
     ]
    }
   ],
   "source": [
    "print(synonymrepDataset.info())\n",
    "print(\"\\nThe ration between the sarcasm tweet and nonsarcastic tweets as follow: \")\n",
    "print(synonymrepDataset[\"sarcasm\"].value_counts())\n",
    "print(\"\\nThe ration between the dialects as follow: \")\n",
    "print(synonymrepDataset[\"dialect\"].value_counts())\n",
    "print(\"\\nTotal is: \",synonymrepDataset[\"sarcasm\"].value_counts().sum())"
   ]
  },
  {
   "cell_type": "code",
   "execution_count": 33,
   "metadata": {},
   "outputs": [
    {
     "name": "stdout",
     "output_type": "stream",
     "text": [
      "<class 'pandas.core.frame.DataFrame'>\n",
      "RangeIndex: 15742 entries, 0 to 15741\n",
      "Data columns (total 4 columns):\n",
      " #   Column     Non-Null Count  Dtype \n",
      "---  ------     --------------  ----- \n",
      " 0   tweet      15742 non-null  object\n",
      " 1   sarcasm    15742 non-null  bool  \n",
      " 2   sentiment  15742 non-null  object\n",
      " 3   dialect    15742 non-null  object\n",
      "dtypes: bool(1), object(3)\n",
      "memory usage: 384.5+ KB\n",
      "None\n",
      "\n",
      "The ration between the sarcasm tweet and nonsarcastic tweets as follow: \n",
      "sarcasm\n",
      "False    10331\n",
      "True      5411\n",
      "Name: count, dtype: int64\n",
      "\n",
      "The ration between the dialects as follow: \n",
      "dialect\n",
      "msa       8513\n",
      "egypt     5450\n",
      "gulf      1115\n",
      "levant     621\n",
      "magreb      43\n",
      "Name: count, dtype: int64\n",
      "\n",
      "Total is:  15742\n"
     ]
    }
   ],
   "source": [
    "print(GPTDataset.info())\n",
    "print(\"\\nThe ration between the sarcasm tweet and nonsarcastic tweets as follow: \")\n",
    "print(GPTDataset[\"sarcasm\"].value_counts())\n",
    "print(\"\\nThe ration between the dialects as follow: \")\n",
    "print(GPTDataset[\"dialect\"].value_counts())\n",
    "print(\"\\nTotal is: \",GPTDataset[\"sarcasm\"].value_counts().sum())"
   ]
  },
  {
   "cell_type": "code",
   "execution_count": 34,
   "metadata": {},
   "outputs": [
    {
     "name": "stdout",
     "output_type": "stream",
     "text": [
      "<class 'pandas.core.frame.DataFrame'>\n",
      "RangeIndex: 15292 entries, 0 to 15291\n",
      "Data columns (total 4 columns):\n",
      " #   Column     Non-Null Count  Dtype \n",
      "---  ------     --------------  ----- \n",
      " 0   tweet      15292 non-null  object\n",
      " 1   sarcasm    15292 non-null  bool  \n",
      " 2   sentiment  15292 non-null  object\n",
      " 3   dialect    15292 non-null  object\n",
      "dtypes: bool(1), object(3)\n",
      "memory usage: 373.5+ KB\n",
      "None\n",
      "\n",
      "The ration between the sarcasm tweet and nonsarcastic tweets as follow: \n",
      "sarcasm\n",
      "False    10330\n",
      "True      4962\n",
      "Name: count, dtype: int64\n",
      "\n",
      "The ration between the dialects as follow: \n",
      "dialect\n",
      "msa       9730\n",
      "egypt     3852\n",
      "gulf       851\n",
      "levant     796\n",
      "magreb      63\n",
      "Name: count, dtype: int64\n",
      "\n",
      "Total is:  15292\n"
     ]
    }
   ],
   "source": [
    "print(augDataset.info())\n",
    "print(\"\\nThe ration between the sarcasm tweet and nonsarcastic tweets as follow: \")\n",
    "print(augDataset[\"sarcasm\"].value_counts())\n",
    "print(\"\\nThe ration between the dialects as follow: \")\n",
    "print(augDataset[\"dialect\"].value_counts())\n",
    "print(\"\\nTotal is: \",augDataset[\"sarcasm\"].value_counts().sum())"
   ]
  },
  {
   "cell_type": "code",
   "execution_count": 35,
   "metadata": {},
   "outputs": [
    {
     "name": "stdout",
     "output_type": "stream",
     "text": [
      "<class 'pandas.core.frame.DataFrame'>\n",
      "RangeIndex: 17850 entries, 0 to 17849\n",
      "Data columns (total 4 columns):\n",
      " #   Column     Non-Null Count  Dtype \n",
      "---  ------     --------------  ----- \n",
      " 0   tweet      17850 non-null  object\n",
      " 1   sarcasm    17850 non-null  bool  \n",
      " 2   sentiment  17850 non-null  object\n",
      " 3   dialect    17850 non-null  object\n",
      "dtypes: bool(1), object(3)\n",
      "memory usage: 435.9+ KB\n",
      "None\n",
      "\n",
      "The ration between the sarcasm tweet and nonsarcastic tweets as follow: \n",
      "sarcasm\n",
      "False    10334\n",
      "True      7516\n",
      "Name: count, dtype: int64\n",
      "\n",
      "The ration between the dialects as follow: \n",
      "dialect\n",
      "msa       9414\n",
      "egypt     6356\n",
      "gulf      1264\n",
      "levant     759\n",
      "magreb      57\n",
      "Name: count, dtype: int64\n",
      "\n",
      "Total is:  17850\n"
     ]
    }
   ],
   "source": [
    "print(synGPTDataset.info())\n",
    "print(\"\\nThe ration between the sarcasm tweet and nonsarcastic tweets as follow: \")\n",
    "print(synGPTDataset[\"sarcasm\"].value_counts())\n",
    "print(\"\\nThe ration between the dialects as follow: \")\n",
    "print(synGPTDataset[\"dialect\"].value_counts())\n",
    "print(\"\\nTotal is: \",synGPTDataset[\"sarcasm\"].value_counts().sum())"
   ]
  },
  {
   "cell_type": "code",
   "execution_count": 36,
   "metadata": {},
   "outputs": [
    {
     "name": "stdout",
     "output_type": "stream",
     "text": [
      "<class 'pandas.core.frame.DataFrame'>\n",
      "RangeIndex: 17168 entries, 0 to 17167\n",
      "Data columns (total 4 columns):\n",
      " #   Column     Non-Null Count  Dtype \n",
      "---  ------     --------------  ----- \n",
      " 0   tweet      17168 non-null  object\n",
      " 1   sarcasm    17168 non-null  bool  \n",
      " 2   sentiment  17168 non-null  object\n",
      " 3   dialect    17168 non-null  object\n",
      "dtypes: bool(1), object(3)\n",
      "memory usage: 419.3+ KB\n",
      "None\n",
      "\n",
      "The ration between the sarcasm tweet and nonsarcastic tweets as follow: \n",
      "sarcasm\n",
      "False    10331\n",
      "True      6837\n",
      "Name: count, dtype: int64\n",
      "\n",
      "The ration between the dialects as follow: \n",
      "dialect\n",
      "msa       9129\n",
      "egypt     6071\n",
      "gulf      1210\n",
      "levant     710\n",
      "magreb      48\n",
      "Name: count, dtype: int64\n",
      "\n",
      "Total is:  17168\n"
     ]
    }
   ],
   "source": [
    "print(backGPTDataset.info())\n",
    "print(\"\\nThe ration between the sarcasm tweet and nonsarcastic tweets as follow: \")\n",
    "print(backGPTDataset[\"sarcasm\"].value_counts())\n",
    "print(\"\\nThe ration between the dialects as follow: \")\n",
    "print(backGPTDataset[\"dialect\"].value_counts())\n",
    "print(\"\\nTotal is: \",backGPTDataset[\"sarcasm\"].value_counts().sum())"
   ]
  },
  {
   "cell_type": "code",
   "execution_count": 37,
   "metadata": {},
   "outputs": [
    {
     "name": "stdout",
     "output_type": "stream",
     "text": [
      "<class 'pandas.core.frame.DataFrame'>\n",
      "RangeIndex: 18547 entries, 0 to 18546\n",
      "Data columns (total 4 columns):\n",
      " #   Column     Non-Null Count  Dtype \n",
      "---  ------     --------------  ----- \n",
      " 0   tweet      18547 non-null  object\n",
      " 1   sarcasm    18547 non-null  bool  \n",
      " 2   sentiment  18547 non-null  object\n",
      " 3   dialect    18547 non-null  object\n",
      "dtypes: bool(1), object(3)\n",
      "memory usage: 452.9+ KB\n",
      "None\n",
      "\n",
      "The ration between the sarcasm tweet and nonsarcastic tweets as follow: \n",
      "sarcasm\n",
      "False    10333\n",
      "True      8214\n",
      "Name: count, dtype: int64\n",
      "\n",
      "The ration between the dialects as follow: \n",
      "dialect\n",
      "msa       9730\n",
      "egypt     6634\n",
      "gulf      1327\n",
      "levant     793\n",
      "magreb      63\n",
      "Name: count, dtype: int64\n",
      "\n",
      "Total is:  18547\n"
     ]
    }
   ],
   "source": [
    "print(fullDataset.info())\n",
    "print(\"\\nThe ration between the sarcasm tweet and nonsarcastic tweets as follow: \")\n",
    "print(fullDataset[\"sarcasm\"].value_counts())\n",
    "print(\"\\nThe ration between the dialects as follow: \")\n",
    "print(fullDataset[\"dialect\"].value_counts())\n",
    "print(\"\\nTotal is: \",fullDataset[\"sarcasm\"].value_counts().sum())"
   ]
  }
 ],
 "metadata": {
  "kernelspec": {
   "display_name": "Python 3",
   "language": "python",
   "name": "python3"
  },
  "language_info": {
   "codemirror_mode": {
    "name": "ipython",
    "version": 3
   },
   "file_extension": ".py",
   "mimetype": "text/x-python",
   "name": "python",
   "nbconvert_exporter": "python",
   "pygments_lexer": "ipython3",
   "version": "3.11.5"
  },
  "orig_nbformat": 4
 },
 "nbformat": 4,
 "nbformat_minor": 2
}
