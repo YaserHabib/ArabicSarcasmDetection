{
 "cells": [
  {
   "cell_type": "code",
   "execution_count": 11,
   "metadata": {},
   "outputs": [],
   "source": [
    "import pandas as pd"
   ]
  },
  {
   "cell_type": "code",
   "execution_count": 12,
   "metadata": {},
   "outputs": [],
   "source": [
    "originalDataset = pd.read_csv(r\"https://raw.githubusercontent.com/iabufarha/ArSarcasm-v2/main/ArSarcasm-v2/training_data.csv\")\n",
    "augDataset = pd.read_csv(r\"../augmented Dataset.csv\")\n",
    "GPTDataset = pd.read_csv(r\"../GPT Dataset.csv\")\n",
    "fullDataset = pd.read_csv(r\"../full Dataset.csv\")\n",
    "backtransDataset = pd.read_csv(r\"../backtrans Dataset.csv\")\n",
    "synonymrepDataset = pd.read_csv(r\"../synrep Dataset.csv\")\n",
    "synGPTDataset = pd.read_csv(r\"../synGPT Dataset.csv\")\n",
    "backGPTDataset = pd.read_csv(r\"../backGPT Dataset.csv\")"
   ]
  },
  {
   "cell_type": "code",
   "execution_count": 13,
   "metadata": {},
   "outputs": [
    {
     "name": "stdout",
     "output_type": "stream",
     "text": [
      "<class 'pandas.core.frame.DataFrame'>\n",
      "RangeIndex: 12548 entries, 0 to 12547\n",
      "Data columns (total 4 columns):\n",
      " #   Column     Non-Null Count  Dtype \n",
      "---  ------     --------------  ----- \n",
      " 0   tweet      12548 non-null  object\n",
      " 1   sarcasm    12548 non-null  bool  \n",
      " 2   sentiment  12548 non-null  object\n",
      " 3   dialect    12548 non-null  object\n",
      "dtypes: bool(1), object(3)\n",
      "memory usage: 306.5+ KB\n",
      "None \n",
      "\n"
     ]
    }
   ],
   "source": [
    "print(originalDataset.info(), \"\\n\")"
   ]
  },
  {
   "cell_type": "code",
   "execution_count": 14,
   "metadata": {},
   "outputs": [
    {
     "name": "stdout",
     "output_type": "stream",
     "text": [
      "<class 'pandas.core.frame.DataFrame'>\n",
      "RangeIndex: 13913 entries, 0 to 13912\n",
      "Data columns (total 4 columns):\n",
      " #   Column     Non-Null Count  Dtype \n",
      "---  ------     --------------  ----- \n",
      " 0   tweet      13913 non-null  object\n",
      " 1   sarcasm    13913 non-null  bool  \n",
      " 2   sentiment  13913 non-null  object\n",
      " 3   dialect    13913 non-null  object\n",
      "dtypes: bool(1), object(3)\n",
      "memory usage: 339.8+ KB\n",
      "\n",
      " None \n",
      "\n"
     ]
    }
   ],
   "source": [
    "print(\"\\n\", backtransDataset.info(), \"\\n\")"
   ]
  },
  {
   "cell_type": "code",
   "execution_count": 15,
   "metadata": {},
   "outputs": [
    {
     "name": "stdout",
     "output_type": "stream",
     "text": [
      "<class 'pandas.core.frame.DataFrame'>\n",
      "RangeIndex: 14595 entries, 0 to 14594\n",
      "Data columns (total 4 columns):\n",
      " #   Column     Non-Null Count  Dtype \n",
      "---  ------     --------------  ----- \n",
      " 0   tweet      14595 non-null  object\n",
      " 1   sarcasm    14595 non-null  bool  \n",
      " 2   sentiment  14595 non-null  object\n",
      " 3   dialect    14595 non-null  object\n",
      "dtypes: bool(1), object(3)\n",
      "memory usage: 356.5+ KB\n",
      "\n",
      " None \n",
      "\n"
     ]
    }
   ],
   "source": [
    "print(\"\\n\", synonymrepDataset.info(), \"\\n\")"
   ]
  },
  {
   "cell_type": "code",
   "execution_count": 16,
   "metadata": {},
   "outputs": [
    {
     "name": "stdout",
     "output_type": "stream",
     "text": [
      "<class 'pandas.core.frame.DataFrame'>\n",
      "RangeIndex: 15742 entries, 0 to 15741\n",
      "Data columns (total 4 columns):\n",
      " #   Column     Non-Null Count  Dtype \n",
      "---  ------     --------------  ----- \n",
      " 0   tweet      15742 non-null  object\n",
      " 1   sarcasm    15742 non-null  bool  \n",
      " 2   sentiment  15742 non-null  object\n",
      " 3   dialect    15742 non-null  object\n",
      "dtypes: bool(1), object(3)\n",
      "memory usage: 384.5+ KB\n",
      "\n",
      " None \n",
      "\n"
     ]
    }
   ],
   "source": [
    "print(\"\\n\", GPTDataset.info(), \"\\n\")"
   ]
  },
  {
   "cell_type": "code",
   "execution_count": 17,
   "metadata": {},
   "outputs": [
    {
     "name": "stdout",
     "output_type": "stream",
     "text": [
      "<class 'pandas.core.frame.DataFrame'>\n",
      "RangeIndex: 15292 entries, 0 to 15291\n",
      "Data columns (total 4 columns):\n",
      " #   Column     Non-Null Count  Dtype \n",
      "---  ------     --------------  ----- \n",
      " 0   tweet      15292 non-null  object\n",
      " 1   sarcasm    15292 non-null  bool  \n",
      " 2   sentiment  15292 non-null  object\n",
      " 3   dialect    15292 non-null  object\n",
      "dtypes: bool(1), object(3)\n",
      "memory usage: 373.5+ KB\n",
      "\n",
      " None \n",
      "\n"
     ]
    }
   ],
   "source": [
    "print(\"\\n\", augDataset.info(), \"\\n\")\n"
   ]
  },
  {
   "cell_type": "code",
   "execution_count": 18,
   "metadata": {},
   "outputs": [
    {
     "name": "stdout",
     "output_type": "stream",
     "text": [
      "<class 'pandas.core.frame.DataFrame'>\n",
      "RangeIndex: 17850 entries, 0 to 17849\n",
      "Data columns (total 4 columns):\n",
      " #   Column     Non-Null Count  Dtype \n",
      "---  ------     --------------  ----- \n",
      " 0   tweet      17850 non-null  object\n",
      " 1   sarcasm    17850 non-null  bool  \n",
      " 2   sentiment  17850 non-null  object\n",
      " 3   dialect    17850 non-null  object\n",
      "dtypes: bool(1), object(3)\n",
      "memory usage: 435.9+ KB\n",
      "\n",
      " None \n",
      "\n"
     ]
    }
   ],
   "source": [
    "print(\"\\n\", synGPTDataset.info(), \"\\n\")"
   ]
  },
  {
   "cell_type": "code",
   "execution_count": 19,
   "metadata": {},
   "outputs": [
    {
     "name": "stdout",
     "output_type": "stream",
     "text": [
      "<class 'pandas.core.frame.DataFrame'>\n",
      "RangeIndex: 17168 entries, 0 to 17167\n",
      "Data columns (total 4 columns):\n",
      " #   Column     Non-Null Count  Dtype \n",
      "---  ------     --------------  ----- \n",
      " 0   tweet      17168 non-null  object\n",
      " 1   sarcasm    17168 non-null  bool  \n",
      " 2   sentiment  17168 non-null  object\n",
      " 3   dialect    17168 non-null  object\n",
      "dtypes: bool(1), object(3)\n",
      "memory usage: 419.3+ KB\n",
      "\n",
      " None \n",
      "\n"
     ]
    }
   ],
   "source": [
    "print(\"\\n\", backGPTDataset.info(), \"\\n\")"
   ]
  },
  {
   "cell_type": "code",
   "execution_count": 20,
   "metadata": {},
   "outputs": [
    {
     "name": "stdout",
     "output_type": "stream",
     "text": [
      "<class 'pandas.core.frame.DataFrame'>\n",
      "RangeIndex: 18547 entries, 0 to 18546\n",
      "Data columns (total 4 columns):\n",
      " #   Column     Non-Null Count  Dtype \n",
      "---  ------     --------------  ----- \n",
      " 0   tweet      18547 non-null  object\n",
      " 1   sarcasm    18547 non-null  bool  \n",
      " 2   sentiment  18547 non-null  object\n",
      " 3   dialect    18547 non-null  object\n",
      "dtypes: bool(1), object(3)\n",
      "memory usage: 452.9+ KB\n",
      "\n",
      " None \n",
      "\n"
     ]
    }
   ],
   "source": [
    "print(\"\\n\", fullDataset.info(), \"\\n\")"
   ]
  }
 ],
 "metadata": {
  "kernelspec": {
   "display_name": "Python 3",
   "language": "python",
   "name": "python3"
  },
  "language_info": {
   "codemirror_mode": {
    "name": "ipython",
    "version": 3
   },
   "file_extension": ".py",
   "mimetype": "text/x-python",
   "name": "python",
   "nbconvert_exporter": "python",
   "pygments_lexer": "ipython3",
   "version": "3.11.5"
  },
  "orig_nbformat": 4
 },
 "nbformat": 4,
 "nbformat_minor": 2
}
