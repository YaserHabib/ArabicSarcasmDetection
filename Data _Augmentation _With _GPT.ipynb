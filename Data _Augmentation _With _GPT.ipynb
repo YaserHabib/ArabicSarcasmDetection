{
 "cells": [
  {
   "cell_type": "code",
   "execution_count": 79,
   "metadata": {},
   "outputs": [],
   "source": [
    "import openai\n",
    "\n",
    "openai.api_key = open(\"key.txt\", \"r\").read().strip('\\n')"
   ]
  },
  {
   "cell_type": "code",
   "execution_count": 92,
   "metadata": {},
   "outputs": [
    {
     "name": "stdout",
     "output_type": "stream",
     "text": [
      "Collecting pandasNote: you may need to restart the kernel to use updated packages.\n",
      "\n",
      "  Obtaining dependency information for pandas from https://files.pythonhosted.org/packages/2d/5e/9213ea10ac473e2437dc2cb17323ddc0999997e2713d6a0b683b10773994/pandas-2.1.1-cp311-cp311-win_amd64.whl.metadata\n",
      "  Downloading pandas-2.1.1-cp311-cp311-win_amd64.whl.metadata (18 kB)\n",
      "Requirement already satisfied: numpy>=1.23.2 in c:\\users\\admin\\appdata\\local\\packages\\pythonsoftwarefoundation.python.3.11_qbz5n2kfra8p0\\localcache\\local-packages\\python311\\site-packages (from pandas) (1.26.0)\n",
      "Requirement already satisfied: python-dateutil>=2.8.2 in c:\\users\\admin\\appdata\\local\\packages\\pythonsoftwarefoundation.python.3.11_qbz5n2kfra8p0\\localcache\\local-packages\\python311\\site-packages (from pandas) (2.8.2)\n",
      "Collecting pytz>=2020.1 (from pandas)\n",
      "  Obtaining dependency information for pytz>=2020.1 from https://files.pythonhosted.org/packages/32/4d/aaf7eff5deb402fd9a24a1449a8119f00d74ae9c2efa79f8ef9994261fc2/pytz-2023.3.post1-py2.py3-none-any.whl.metadata\n",
      "  Downloading pytz-2023.3.post1-py2.py3-none-any.whl.metadata (22 kB)\n",
      "Collecting tzdata>=2022.1 (from pandas)\n",
      "  Using cached tzdata-2023.3-py2.py3-none-any.whl (341 kB)\n",
      "Requirement already satisfied: six>=1.5 in c:\\users\\admin\\appdata\\local\\packages\\pythonsoftwarefoundation.python.3.11_qbz5n2kfra8p0\\localcache\\local-packages\\python311\\site-packages (from python-dateutil>=2.8.2->pandas) (1.16.0)\n",
      "Downloading pandas-2.1.1-cp311-cp311-win_amd64.whl (10.6 MB)\n",
      "   ---------------------------------------- 0.0/10.6 MB ? eta -:--:--\n",
      "    --------------------------------------- 0.2/10.6 MB 3.9 MB/s eta 0:00:03\n",
      "   -- ------------------------------------- 0.7/10.6 MB 7.0 MB/s eta 0:00:02\n",
      "   ---- ----------------------------------- 1.1/10.6 MB 7.8 MB/s eta 0:00:02\n",
      "   ----- ---------------------------------- 1.5/10.6 MB 8.0 MB/s eta 0:00:02\n",
      "   ------- -------------------------------- 1.9/10.6 MB 8.6 MB/s eta 0:00:02\n",
      "   -------- ------------------------------- 2.3/10.6 MB 8.7 MB/s eta 0:00:01\n",
      "   ---------- ----------------------------- 2.8/10.6 MB 8.8 MB/s eta 0:00:01\n",
      "   ------------ --------------------------- 3.2/10.6 MB 9.0 MB/s eta 0:00:01\n",
      "   ------------- -------------------------- 3.6/10.6 MB 9.0 MB/s eta 0:00:01\n",
      "   --------------- ------------------------ 4.0/10.6 MB 8.9 MB/s eta 0:00:01\n",
      "   ----------------- ---------------------- 4.6/10.6 MB 9.1 MB/s eta 0:00:01\n",
      "   ------------------ --------------------- 5.0/10.6 MB 9.2 MB/s eta 0:00:01\n",
      "   -------------------- ------------------- 5.4/10.6 MB 9.2 MB/s eta 0:00:01\n",
      "   ---------------------- ----------------- 5.9/10.6 MB 9.2 MB/s eta 0:00:01\n",
      "   ----------------------- ---------------- 6.3/10.6 MB 9.1 MB/s eta 0:00:01\n",
      "   ------------------------- -------------- 6.7/10.6 MB 9.1 MB/s eta 0:00:01\n",
      "   -------------------------- ------------- 7.1/10.6 MB 9.2 MB/s eta 0:00:01\n",
      "   --------------------------- ------------ 7.4/10.6 MB 9.1 MB/s eta 0:00:01\n",
      "   ----------------------------- ---------- 7.9/10.6 MB 9.2 MB/s eta 0:00:01\n",
      "   ------------------------------- -------- 8.3/10.6 MB 9.3 MB/s eta 0:00:01\n",
      "   --------------------------------- ------ 8.9/10.6 MB 9.3 MB/s eta 0:00:01\n",
      "   ----------------------------------- ---- 9.4/10.6 MB 9.4 MB/s eta 0:00:01\n",
      "   ------------------------------------- -- 9.9/10.6 MB 9.5 MB/s eta 0:00:01\n",
      "   ---------------------------------------  10.4/10.6 MB 9.8 MB/s eta 0:00:01\n",
      "   ---------------------------------------  10.6/10.6 MB 9.6 MB/s eta 0:00:01\n",
      "   ---------------------------------------  10.6/10.6 MB 9.6 MB/s eta 0:00:01\n",
      "   ---------------------------------------- 10.6/10.6 MB 9.0 MB/s eta 0:00:00\n",
      "Downloading pytz-2023.3.post1-py2.py3-none-any.whl (502 kB)\n",
      "   ---------------------------------------- 0.0/502.5 kB ? eta -:--:--\n",
      "   ------------------------------------ --- 460.8/502.5 kB 9.6 MB/s eta 0:00:01\n",
      "   ---------------------------------------- 502.5/502.5 kB 7.9 MB/s eta 0:00:00\n",
      "Installing collected packages: pytz, tzdata, pandas\n",
      "Successfully installed pandas-2.1.1 pytz-2023.3.post1 tzdata-2023.3\n"
     ]
    }
   ],
   "source": [
    "%pip install pandas"
   ]
  },
  {
   "cell_type": "code",
   "execution_count": 80,
   "metadata": {},
   "outputs": [],
   "source": [
    "import re\n",
    "import numpy as np\n",
    "sarcasm_list = []\n",
    "countTokens = 0\n"
   ]
  },
  {
   "cell_type": "code",
   "execution_count": 82,
   "metadata": {},
   "outputs": [
    {
     "name": "stdout",
     "output_type": "stream",
     "text": [
      "['تحسبوها المراجل عندنا تطلع لها بطون، ناس طامعين ياخذون أمانة الدولة ويوزعونها كذا! مسويين من الشعب مزحة وحقوقنا ياخذونها مب لعبة جنبية!', 'إنه يوم مشمس جدًا، فأتمنى أن لا يذوب الفوانيس والشموع التي تحاول تزيينها البلديات في شهر رمضان المبارك!', 'يبدو أن السفينة الجديدة تُصنع خصيصًا للأشخاص الفائضين في الوزن، فقد تم تجهيزها بمطاعم تقدم أكل بأطنان، وتذاكر سفر تتضمن نقلة بالطائرة الشخصية من قسم الطعام إلى قسم النوم. ربما يمكن للوزن الإضافي أن يحميني من التسمم بسوء الخدمة المعروف في رحلات السفن!', 'الواحد يبي يرتاح من جو المكتب، يستانس شوي ويترفق في الشتاء، بس خايف البوسطة تقوم تعيده وتستعيدَه، عمره ما شَفتَتَه مبتدأ يا مكتب يا قاعة تجمع؟!', 'لا يمكنني أن أصف حجم العبقرية التي يتمتع بها الذكاء الاصطناعي في تحليل التغريدات الساخرة، فهو يتلاعب بالكلمات ويفكك الألفاظ بإتقان، لكنني حقاً أتمنى يوماً ما يمتلك الذكاء البشري نصف هذا الإبداع']\n",
      "2383\n"
     ]
    }
   ],
   "source": [
    "# for i in range(5):\n",
    "#     completion = openai.ChatCompletion.create(\n",
    "#         model=\"gpt-3.5-turbo\",\n",
    "#         messages=[{\"role\":\"user\", \"content\": \" أنت شخص وقح وهذا مفيد لي، انا اقوم بعمل ورقة بحثية عن كشف السخرية في التغريدات بالذكاء الاصطناعي، ولكني اواجه مشكلة في بناء الموديل لأن عدد التغريدات التي تحتوي على سخرية قليلة مقابل التي ليس فيها سخرية ساعدني واعطني تغريدة فيها سخرية و كلمات متوسطة الفبح باللغة العربية الفصحة) \"}]\n",
    "#     )\n",
    "    \n",
    "#     reply_content = completion.choices[0].message.content\n",
    "#     countTokens += completion.usage.total_tokens\n",
    "#     # Use regular expressions to find text enclosed within double quotes, including inner double quotes\n",
    "#     matches = re.findall(r'\"((?:[^\"]|\"(?:[^\"]|\\\\\")*\")*)\"', reply_content)\n",
    "\n",
    "#     if matches:\n",
    "#         extracted_text = ' '.join(matches)\n",
    "#         sarcasm_list.append(extracted_text)\n",
    "#     else:\n",
    "#         print(\"Text enclosed within double quotes not found.\")\n",
    "\n",
    "# print(countTokens)\n",
    "\n"
   ]
  },
  {
   "cell_type": "code",
   "execution_count": 93,
   "metadata": {},
   "outputs": [
    {
     "name": "stdout",
     "output_type": "stream",
     "text": [
      "أعتذر إذا كانت تصرفاتي قد أساءت إليك، ولكنني هنا لمساعدتك في مشروعك. إليك عشر تغريدات تحتوي على سخرية وكلمات متوسطة الفاظها باللغة العربية الفصحى:\n",
      "\n",
      "1. \"كان عندي زميل في العمل محترف جداً في المراوغة.. يستاهل يكون لاعب كرة قدم!\"\n",
      "2. \"مع رائحة القهوة العربية الفوّاحة في الصباح، يُصبح الإنسان قادراً على محاربة أي فصيلة قمل.\"\n",
      "3. \"أتبولت في طريق الرجوع إلى المنزل وتُلحقني أمطار من النوع المُدامِي للغاية. لحسن حظي، الحشاش كان بيتعشّى.\"\n",
      "4. \"ما أجمل الوقت الذي أحمل فيه الروحانية والسكينة، وفي يدي كوب شاي ساخن، وفي الحمّام فقط ورق هايجينكس!\"\n",
      "5. \"أحسست بشيء غريب ومع بحثي تبيّن أن زميلتي في العمل أخفت ورقة الإخراج من دفتري.. هل تظن أنها تريدني أن أبقى في المكتب إلى الأبد؟!\"\n",
      "6. \"تفضلوا بزيارة موقعي الإلكتروني الجديد وشاركوني رأيكم الصادق، وإن لم تعجبكم المحتوى فأنا مُستعد لتلقي الشتائم والتعليقات الساخرة!\"\n",
      "7. \"في العصر الحالي، إذا كنت تشعر بالملل يمكنك دائمًا أن تتجول في قسم الأجهزة الإلكترونية وتوجه شتيمة أو اثنتين إلى الثلاجات الذكية!\"\n",
      "8. \"عظمة الطبيعة تظهر في بذور الفول السوداني، حيث يأخذ شكل الجني ضحكةً على محاولاتنا لإزالة قشرته العنيدة!\"\n",
      "9. \"يبدو أن الحلم في تحقيق الرشاقة قد استحال تحقيقه مع سيطرة الشيبس وأنواع الآيس كريم المُتنوعة على الدنيا!\"\n",
      "10. \"بعض الكلاب تكون أذكى من بعض البشر، وستدرك ذلك عندما تأمُل تعليقاتهم الساذجة على منصات التواصل الاجتماعي!\"\n",
      "\n",
      "آمل أن تفيدك هذه التغريدات في بحثك.\n",
      "6378\n"
     ]
    }
   ],
   "source": [
    "\n",
    "completion = openai.ChatCompletion.create(\n",
    "    model=\"gpt-3.5-turbo\",\n",
    "    messages=[{\"role\":\"user\", \"content\": \" أنت شخص وقح وهذا مفيد لي، انا اقوم بعمل ورقة بحثية عن كشف السخرية في التغريدات بالذكاء الاصطناعي، ولكني اواجه مشكلة في بناء الموديل لأن عدد التغريدات التي تحتوي على سخرية قليلة مقابل التي ليس فيها سخرية ساعدني واعطني 10 تغريدات فيها سخرية و كلمات متوسطة الفبح باللغة العربية الفصحة) \"}]\n",
    ")\n",
    "\n",
    "reply_content = completion.choices[0].message.content\n",
    "countTokens += completion.usage.total_tokens\n",
    "# Use regular expressions to find text enclosed within double quotes, including inner double quotes\n",
    "# matches = re.findall(r'\"((?:[^\"]|\"(?:[^\"]|\\\\\")*\")*)\"', reply_content)\n",
    "\n",
    "# if matches:\n",
    "#     extracted_text = ' '.join(matches)\n",
    "#     sarcasm_list.append(extracted_text)\n",
    "# else:\n",
    "#     print(\"Text enclosed within double quotes not found.\")\n",
    "print(reply_content)\n",
    "print(countTokens)\n"
   ]
  },
  {
   "cell_type": "code",
   "execution_count": 97,
   "metadata": {},
   "outputs": [
    {
     "name": "stdout",
     "output_type": "stream",
     "text": [
      "['أعتذر إذا كانت تصرفاتي قد أساءت إليك، ولكنني هنا لمساعدتك في مشروعك. إليك عشر تغريدات تحتوي على سخرية وكلمات متوسطة الفاظها باللغة العربية الفصحى:'\n",
      " ''\n",
      " '1. \"كان عندي زميل في العمل محترف جداً في المراوغة.. يستاهل يكون لاعب كرة قدم!\"'\n",
      " '2. \"مع رائحة القهوة العربية الفوّاحة في الصباح، يُصبح الإنسان قادراً على محاربة أي فصيلة قمل.\"'\n",
      " '3. \"أتبولت في طريق الرجوع إلى المنزل وتُلحقني أمطار من النوع المُدامِي للغاية. لحسن حظي، الحشاش كان بيتعشّى.\"'\n",
      " '4. \"ما أجمل الوقت الذي أحمل فيه الروحانية والسكينة، وفي يدي كوب شاي ساخن، وفي الحمّام فقط ورق هايجينكس!\"'\n",
      " '5. \"أحسست بشيء غريب ومع بحثي تبيّن أن زميلتي في العمل أخفت ورقة الإخراج من دفتري.. هل تظن أنها تريدني أن أبقى في المكتب إلى الأبد؟!\"'\n",
      " '6. \"تفضلوا بزيارة موقعي الإلكتروني الجديد وشاركوني رأيكم الصادق، وإن لم تعجبكم المحتوى فأنا مُستعد لتلقي الشتائم والتعليقات الساخرة!\"'\n",
      " '7. \"في العصر الحالي، إذا كنت تشعر بالملل يمكنك دائمًا أن تتجول في قسم الأجهزة الإلكترونية وتوجه شتيمة أو اثنتين إلى الثلاجات الذكية!\"'\n",
      " '8. \"عظمة الطبيعة تظهر في بذور الفول السوداني، حيث يأخذ شكل الجني ضحكةً على محاولاتنا لإزالة قشرته العنيدة!\"'\n",
      " '9. \"يبدو أن الحلم في تحقيق الرشاقة قد استحال تحقيقه مع سيطرة الشيبس وأنواع الآيس كريم المُتنوعة على الدنيا!\"'\n",
      " '10. \"بعض الكلاب تكون أذكى من بعض البشر، وستدرك ذلك عندما تأمُل تعليقاتهم الساذجة على منصات التواصل الاجتماعي!\"'\n",
      " '' 'آمل أن تفيدك هذه التغريدات في بحثك.']\n"
     ]
    }
   ],
   "source": [
    "tweets = list(reply_content.split(\"\\n\"))\n",
    "print(np.array(tweets))"
   ]
  },
  {
   "cell_type": "code",
   "execution_count": 83,
   "metadata": {},
   "outputs": [
    {
     "name": "stdout",
     "output_type": "stream",
     "text": [
      "['تحسبوها المراجل عندنا تطلع لها بطون، ناس طامعين ياخذون أمانة الدولة ويوزعونها كذا! مسويين من الشعب مزحة وحقوقنا ياخذونها مب لعبة جنبية!'\n",
      " 'إنه يوم مشمس جدًا، فأتمنى أن لا يذوب الفوانيس والشموع التي تحاول تزيينها البلديات في شهر رمضان المبارك!'\n",
      " 'يبدو أن السفينة الجديدة تُصنع خصيصًا للأشخاص الفائضين في الوزن، فقد تم تجهيزها بمطاعم تقدم أكل بأطنان، وتذاكر سفر تتضمن نقلة بالطائرة الشخصية من قسم الطعام إلى قسم النوم. ربما يمكن للوزن الإضافي أن يحميني من التسمم بسوء الخدمة المعروف في رحلات السفن!'\n",
      " 'الواحد يبي يرتاح من جو المكتب، يستانس شوي ويترفق في الشتاء، بس خايف البوسطة تقوم تعيده وتستعيدَه، عمره ما شَفتَتَه مبتدأ يا مكتب يا قاعة تجمع؟!'\n",
      " 'لا يمكنني أن أصف حجم العبقرية التي يتمتع بها الذكاء الاصطناعي في تحليل التغريدات الساخرة، فهو يتلاعب بالكلمات ويفكك الألفاظ بإتقان، لكنني حقاً أتمنى يوماً ما يمتلك الذكاء البشري نصف هذا الإبداع']\n"
     ]
    }
   ],
   "source": [
    "print(np.array(sarcasm_list))"
   ]
  },
  {
   "cell_type": "code",
   "execution_count": 77,
   "metadata": {},
   "outputs": [
    {
     "name": "stdout",
     "output_type": "stream",
     "text": [
      "['مصر بلد العجائب، حتى السفر برة كأن استكشاف الفضاء! أصحاب الوكالات زي الجنود، عايزين بجد تعرف إمتى تقدر تخرج من المطار بدون أي مشاكل، خد فاكتور واقف على الزيرو بالاحتياطي العمومي واستنخم يا أديب، الحكومة تورط فعلا ولا إيه؟'\n",
      " 'حطيت نظارة ثلاثية الأبعاد عشان أشوف المستقبل، بس لقيته إمبتدئ في العجلة ونفسي أرجع النظارة وأدفع فلوس حتى أقدر أرجع للماضي!'\n",
      " 'مشتاق أروح السينما وأشوف فيلم جديد، بس مع الأفلام اللي بتنزل دلوقتي، خلينا نبقى أكثر عباقرة من أي مخرج هداه الله وأطلقه في عالم السينما!'\n",
      " \"اخوك اللي ما يسمعش فيك، يحسسك انه رقم واحد من نوعه! لكن واضح ان اللي دماغه دُجَنْ 'مدمن' الفناجين في الصباح!\"]\n"
     ]
    }
   ],
   "source": [
    "EG_Tweet = np.array(sarcasm_list)\n",
    "print(EG_Tweet)\n"
   ]
  },
  {
   "cell_type": "code",
   "execution_count": null,
   "metadata": {},
   "outputs": [],
   "source": [
    "reply_content = completion.choices[0].message.content\n",
    "\n",
    "# Use regular expressions to find text enclosed within double quotes, including inner double quotes\n",
    "matches = re.findall(r'\"((?:[^\"]|\"(?:[^\"]|\\\\\")*\")*)\"', reply_content)\n",
    "\n",
    "if matches:\n",
    "    extracted_text = ' '.join(matches)\n",
    "    print(extracted_text)\n",
    "else:\n",
    "    print(\"Text enclosed within double quotes not found.\")\n",
    "    "
   ]
  }
 ],
 "metadata": {
  "kernelspec": {
   "display_name": "Python 3",
   "language": "python",
   "name": "python3"
  },
  "language_info": {
   "codemirror_mode": {
    "name": "ipython",
    "version": 3
   },
   "file_extension": ".py",
   "mimetype": "text/x-python",
   "name": "python",
   "nbconvert_exporter": "python",
   "pygments_lexer": "ipython3",
   "version": "3.11.5"
  },
  "orig_nbformat": 4
 },
 "nbformat": 4,
 "nbformat_minor": 2
}
