{
 "cells": [
  {
   "cell_type": "code",
   "execution_count": 31,
   "metadata": {},
   "outputs": [],
   "source": [
    "import os\n",
    "import sys\n",
    "\n",
    "sys.path.append(r\"C:\\Users\\Mohamed\\Documents\\Fall 2023 - 2024\\Senior Project in CS\\sysPath\")\n",
    "\n",
    "import numpy as np\n",
    "import pandas as pd\n",
    "import seaborn as sns\n",
    "import preProcessData #type: ignore\n",
    "import matplotlib.pyplot as plt\n",
    "\n",
    "from keras.preprocessing.text import Tokenizer\n",
    "from keras.utils import pad_sequences\n",
    "\n",
    "from sklearn.svm import SVC\n",
    "from sklearn.decomposition import PCA\n",
    "from sklearn.model_selection import train_test_split\n",
    "from sklearn.metrics import classification_report, confusion_matrix\n",
    "from sklearn.preprocessing import LabelEncoder, MinMaxScaler, StandardScaler\n",
    "from imblearn.over_sampling import SMOTE\n",
    "from imblearn.over_sampling import RandomOverSampler\n",
    "from matplotlib import style\n",
    "\n",
    "le = LabelEncoder()\n",
    "style.use(\"ggplot\")"
   ]
  },
  {
   "cell_type": "code",
   "execution_count": 32,
   "metadata": {},
   "outputs": [
    {
     "name": "stdout",
     "output_type": "stream",
     "text": [
      "<class 'pandas.core.frame.DataFrame'>\n",
      "RangeIndex: 12548 entries, 0 to 12547\n",
      "Data columns (total 4 columns):\n",
      " #   Column     Non-Null Count  Dtype \n",
      "---  ------     --------------  ----- \n",
      " 0   tweet      12548 non-null  object\n",
      " 1   sarcasm    12548 non-null  bool  \n",
      " 2   sentiment  12548 non-null  object\n",
      " 3   dialect    12548 non-null  object\n",
      "dtypes: bool(1), object(3)\n",
      "memory usage: 306.5+ KB\n"
     ]
    }
   ],
   "source": [
    "dataset = pd.read_csv(r\"https://raw.githubusercontent.com/iabufarha/ArSarcasm-v2/main/ArSarcasm-v2/training_data.csv\")\n",
    "dataset.info()"
   ]
  },
  {
   "cell_type": "code",
   "execution_count": 33,
   "metadata": {},
   "outputs": [
    {
     "name": "stdout",
     "output_type": "stream",
     "text": [
      "\n",
      "----------         cleanData Done!         ----------\n",
      "\n",
      "\n",
      "---------- dataAugmentation done in a separate file ----------\n",
      "\n",
      "\n",
      "----------     dataTokenization Done!      ----------\n",
      "\n"
     ]
    }
   ],
   "source": [
    "cleaned_dataset = preProcessData.preProcessData(dataset.copy(deep=True))"
   ]
  },
  {
   "cell_type": "code",
   "execution_count": 34,
   "metadata": {},
   "outputs": [],
   "source": [
    "# prepare tokenizer\n",
    "T = Tokenizer()\n",
    "T.fit_on_texts(cleaned_dataset[\"tweet\"].tolist())\n",
    "vocab_size = len(T.word_index) + 1"
   ]
  },
  {
   "cell_type": "code",
   "execution_count": 35,
   "metadata": {},
   "outputs": [],
   "source": [
    "# integer encode the documents\n",
    "encoded_docs = T.texts_to_sequences(cleaned_dataset[\"tweet\"].tolist())"
   ]
  },
  {
   "cell_type": "code",
   "execution_count": 36,
   "metadata": {},
   "outputs": [
    {
     "name": "stdout",
     "output_type": "stream",
     "text": [
      "\n",
      "padded_docs:\n",
      "\n",
      " [[    4   716   675 ...     0     0     0]\n",
      " [   91  3209  8916 ...     0     0     0]\n",
      " [   34 15248  8917 ...     0     0     0]\n",
      " ...\n",
      " [   28 13908   804 ...     0     0     0]\n",
      " [   51  3700     0 ...     0     0     0]\n",
      " [ 2590  3133  1962 ...     0     0     0]]\n"
     ]
    }
   ],
   "source": [
    "# pad documents to a max length of 4 words\n",
    "max_length = len(max(np.array(cleaned_dataset[\"tweet\"]), key=len))\n",
    "padded_docs = pad_sequences(encoded_docs, maxlen = max_length, padding = \"post\")\n",
    "print(\"\\npadded_docs:\\n\\n\",padded_docs)"
   ]
  },
  {
   "cell_type": "code",
   "execution_count": 37,
   "metadata": {},
   "outputs": [],
   "source": [
    "# columns = [\"A\", \"B\", \"C\", \"D\", \"E\", \"F\", \"G\", \"H\", \"I\", \"J\", \"K\", \"L\", \"M\", \"N\", \"O\", \"P\", \"Q\", \"R\", \"S\", \"T\"]\n",
    "columns = [\"A\", \"B\", \"C\", \"D\", \"E\", \"F\", \"G\", \"H\", \"I\", \"J\"]\n",
    "# columns = [\"A\", \"B\", \"C\", \"D\", \"E\"]\n",
    "padded_docs = PCA(n_components=len(columns)).fit_transform(padded_docs)\n",
    "padded_docs = StandardScaler().fit_transform(padded_docs)\n",
    "padded_docs = MinMaxScaler().fit_transform(padded_docs)\n",
    "\n",
    "features = pd.DataFrame(padded_docs, columns=columns)\n",
    "features[\"sentiment\"] = cleaned_dataset[[\"sentiment\"]].copy()\n",
    "features[\"dialect\"] = cleaned_dataset[[\"dialect\"]].copy()\n",
    "\n",
    "labels = cleaned_dataset[[\"sarcasm\"]].copy()"
   ]
  },
  {
   "cell_type": "code",
   "execution_count": 38,
   "metadata": {},
   "outputs": [],
   "source": [
    "tweet_train, tweet_test, labeled_train, labeled_test = train_test_split(features, labels, test_size=0.2, shuffle=True)"
   ]
  },
  {
   "cell_type": "code",
   "execution_count": 39,
   "metadata": {},
   "outputs": [
    {
     "name": "stdout",
     "output_type": "stream",
     "text": [
      "(10038, 12)\n",
      "<class 'pandas.core.frame.DataFrame'>\n"
     ]
    }
   ],
   "source": [
    "print(tweet_train.shape)\n",
    "print(type(labeled_test))"
   ]
  },
  {
   "cell_type": "code",
   "execution_count": 40,
   "metadata": {},
   "outputs": [],
   "source": [
    "sm = SMOTE(random_state=42)\n",
    "tweet_train, labeled_train = sm.fit_resample(tweet_train, labeled_train)"
   ]
  },
  {
   "cell_type": "code",
   "execution_count": 41,
   "metadata": {},
   "outputs": [
    {
     "name": "stdout",
     "output_type": "stream",
     "text": [
      "\n",
      "\n",
      "SVC model score on the training dataset: 0.82\n",
      "SVC model score on the test dataset:     0.76\n",
      "\n",
      "              precision    recall  f1-score   support\n",
      "\n",
      "    Class: 0       0.97      0.74      0.84      2086\n",
      "    Class: 1       0.41      0.90      0.56       424\n",
      "\n",
      "    accuracy                           0.76      2510\n",
      "   macro avg       0.69      0.82      0.70      2510\n",
      "weighted avg       0.88      0.76      0.79      2510\n",
      "\n"
     ]
    }
   ],
   "source": [
    "# fit the model\n",
    "svc = SVC(kernel=\"linear\", C=1.0)\n",
    "svc.fit(tweet_train, labeled_train)\n",
    "\n",
    "\n",
    "\n",
    "#evaluate the model\n",
    "trainScore = svc.score(tweet_train, labeled_train)\n",
    "testScore = svc.score(tweet_test, labeled_test)\n",
    "labelPredicted = svc.predict(tweet_test)\n",
    "\n",
    "print()\n",
    "\n",
    "print(f\"\\nSVC model score on the training dataset: {trainScore:.2f}\")\n",
    "print(f\"SVC model score on the test dataset:     {testScore:.2f}\\n\")\n",
    "\n",
    "print(classification_report(labeled_test, labelPredicted, target_names=[\"Class: 0\", \"Class: 1\"]))"
   ]
  },
  {
   "cell_type": "code",
   "execution_count": 42,
   "metadata": {},
   "outputs": [
    {
     "data": {
      "image/png": "[encoded data removed]",
      "text/plain": [
       "<Figure size 640x480 with 2 Axes>"
      ]
     },
     "metadata": {},
     "output_type": "display_data"
    }
   ],
   "source": [
    "confusionMatrix = confusion_matrix(labeled_test, labelPredicted)\n",
    "ax= plt.subplot()\n",
    "sns.heatmap(confusionMatrix, annot=True, fmt='g', ax=ax, cmap=\"viridis\") # annot=True to annotate cells, ftm='g' to disable scientific notation\n",
    "\n",
    "# labels, title and ticks\n",
    "ax.set_xlabel('Predicted labels')\n",
    "ax.set_ylabel('True labels')\n",
    "ax.set_title(f\"Accuracy: {testScore*100:.2f}%\")\n",
    "\n",
    "ax.xaxis.set_ticklabels([0, 1])\n",
    "ax.yaxis.set_ticklabels([0, 1])\n",
    "\n",
    "# plt.savefig(r\"SVC confusionMatrix.png\", dpi=1000)\n",
    "plt.show()"
   ]
  },
  {
   "cell_type": "code",
   "execution_count": 18,
   "metadata": {},
   "outputs": [
    {
     "name": "stdout",
     "output_type": "stream",
     "text": [
      "{'kernel': 'linear'}\n",
      "{'kernel': 'poly'}\n",
      "{'kernel': 'rbf'}\n",
      "{'kernel': 'sigmoid'}\n"
     ]
    }
   ],
   "source": [
    "classifierVariables = {\n",
    "    \"firstRow\": {\"kernel\": \"linear\"},\n",
    "    \"secondRow\": {\"kernel\": \"poly\"},\n",
    "    \"thirdRow\": {\"kernel\": \"rbf\"},\n",
    "    \"fourthRow\": {\"kernel\": \"sigmoid\"}\n",
    "    }\n",
    "\n",
    "for row in classifierVariables:\n",
    "    print(classifierVariables[row])\n",
    "    # print(str(classifierVariables[row]).replace('\\'', '').replace(':', '~').replace('{','').replace('}', ' - '))"
   ]
  }
 ],
 "metadata": {
  "kernelspec": {
   "display_name": "Python 3",
   "language": "python",
   "name": "python3"
  },
  "language_info": {
   "codemirror_mode": {
    "name": "ipython",
    "version": 3
   },
   "file_extension": ".py",
   "mimetype": "text/x-python",
   "name": "python",
   "nbconvert_exporter": "python",
   "pygments_lexer": "ipython3",
   "version": "3.11.5"
  },
  "orig_nbformat": 4
 },
 "nbformat": 4,
 "nbformat_minor": 2
}
